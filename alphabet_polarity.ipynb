{
 "cells": [
  {
   "cell_type": "markdown",
   "metadata": {},
   "source": [
    "## What is the sentiment of an English alphabet?\n",
    "This is fun experiment in which the sentiment (polarity) of each of the 26 English alphabet is explored. The polarity is computed using a sentiment lexicon. In this experiment, lexicon from Stanford is used.\n",
    "* Once the sentiment of each alphabet is found, then it can be used to measure the polarity of words/phrases. Please note that, this score is the direct reflection of the score of the individual alphabets in the words and doesn't necessarily reflect any semantics of the word/phrases."
   ]
  },
  {
   "cell_type": "code",
   "execution_count": 1,
   "metadata": {},
   "outputs": [],
   "source": [
    "import pickle\n",
    "import os\n",
    "import string\n",
    "import pandas as pd"
   ]
  },
  {
   "cell_type": "markdown",
   "metadata": {},
   "source": [
    "Data set: https://nlp.stanford.edu/projects/socialsent/"
   ]
  },
  {
   "cell_type": "code",
   "execution_count": 21,
   "metadata": {},
   "outputs": [],
   "source": [
    "sentiment_lexicon_file = \"./socialsent_hist_freq/frequent_words/2000.tsv\"\n",
    "sentiment_lexicon = pd.read_csv(sentiment_lexicon_file, sep='\\t', header=None, encoding='utf-8',)"
   ]
  },
  {
   "cell_type": "code",
   "execution_count": 3,
   "metadata": {},
   "outputs": [],
   "source": [
    "def build_polarity(sentiment_lexicon):\n",
    "    \"\"\"\n",
    "    This method returns a dictionary object that holds the polarity score of each of the 26 alphabets in English.\n",
    "    The score is calculated based on the number of occurances of words starting with the alphabet in the sentiment\n",
    "    lexicon. For this purpose, the sentiment lexicon is re-scored to -1(negative) and 1(positive), by re-mapping\n",
    "    values less than zero as negative(-1) and greater than zero as positive(1).\n",
    "    :param sentiment_lexicon: A dataframe of the lexicon of polarity.\n",
    "    :return: A dictionary of size 26 with a numerical score for each alphabet. A value less than zero indicates\n",
    "    negative polarity and a value greater than zero indicates positive polarity. Higher the value means higher the\n",
    "    polarity.\n",
    "    \"\"\"\n",
    "    sentiment_lexicon = sentiment_lexicon.dropna()\n",
    "    sentiment_lexicon.loc[sentiment_lexicon[1] > 0, 1] = 1\n",
    "    sentiment_lexicon.loc[sentiment_lexicon[1] < 0, 1] = -1\n",
    "    positive_words = sentiment_lexicon.loc[sentiment_lexicon[1] == 1.0][0].str.lower().values.tolist()\n",
    "    negative_words = sentiment_lexicon.loc[sentiment_lexicon[1] == -1.0][0].str.lower().values.tolist()\n",
    "    alphabets = list(string.ascii_lowercase)\n",
    "    # Compute positive score for each alphabet\n",
    "    alpha_pos_score = {}\n",
    "    for each_alphabet in alphabets:\n",
    "        score = [(True) for each_word in positive_words if each_word.startswith(each_alphabet)]\n",
    "        alpha_pos_score[each_alphabet] = len(score)\n",
    "    # Compute negative score for each alphabet\n",
    "    alpha_neg_score = {}\n",
    "    for each_alphabet in alphabets:\n",
    "        score = [(True) for each_word in negative_words if each_word.startswith(each_alphabet)]\n",
    "        alpha_neg_score[each_alphabet] = len(score)\n",
    "    alphabet_polarity = dict()\n",
    "    for each_alphabet in alphabets:\n",
    "        alphabet_polarity[each_alphabet] = alpha_pos_score[each_alphabet] - alpha_neg_score[each_alphabet]\n",
    "    return alphabet_polarity"
   ]
  },
  {
   "cell_type": "code",
   "execution_count": 4,
   "metadata": {},
   "outputs": [],
   "source": [
    "def compute_phrase_score(phrase, alphabet_polarity):\n",
    "    \"\"\"\n",
    "    Calculates a numerical score for the phrase based on the alphabet_polarity computed from the sentiment lexicon.\n",
    "    A negative value indicates poor polarity whereas a positive value indicates a good polarity. Bigger the value, \n",
    "    higher is the phrase's polarity in the respective region.\n",
    "    :param phrase: A string of characters for which score is computed.\n",
    "    :param alphabet_polarity: A dictionary indicating polarity score for each of the 26 English alphabets.\n",
    "    :return: A numerical score indicating the polarity of the phrase as calculated from alphabet_polarity. The \n",
    "    score is normalized by phrase length.\n",
    "    \"\"\"\n",
    "    polarity_score = 0\n",
    "    for each_letter in phrase:\n",
    "        try:\n",
    "            polarity_score += alphabet_polarity[each_letter.lower()]\n",
    "        except KeyError:\n",
    "            continue\n",
    "    phrase_score = round(polarity_score/(len(phrase)), 2)\n",
    "    return phrase_score"
   ]
  },
  {
   "cell_type": "code",
   "execution_count": 5,
   "metadata": {},
   "outputs": [],
   "source": [
    "def save_word_polarity(path, alphabet_polarity):\n",
    "    with open(os.path.join(path,'alphabet_polarity.pkl'), 'wb') as f:\n",
    "        pickle.dump(alphabet_polarity, f, pickle.HIGHEST_PROTOCOL)"
   ]
  },
  {
   "cell_type": "code",
   "execution_count": 6,
   "metadata": {},
   "outputs": [],
   "source": [
    "def load_word_polarity(path):\n",
    "    with open(os.path.join(path, 'alphabet_polarity.pkl'), 'rb') as f:\n",
    "        return pickle.load(f)"
   ]
  },
  {
   "cell_type": "code",
   "execution_count": 7,
   "metadata": {},
   "outputs": [],
   "source": [
    "alphabet_polarity = build_polarity(sentiment_lexicon)"
   ]
  },
  {
   "cell_type": "code",
   "execution_count": 8,
   "metadata": {},
   "outputs": [],
   "source": [
    "save_word_polarity(\"./\",alphabet_polarity)"
   ]
  },
  {
   "cell_type": "markdown",
   "metadata": {},
   "source": [
    "## Some random tests"
   ]
  },
  {
   "cell_type": "code",
   "execution_count": 9,
   "metadata": {},
   "outputs": [
    {
     "name": "stdout",
     "output_type": "stream",
     "text": [
      "Polarity of word 'happy' is 56.0\n"
     ]
    }
   ],
   "source": [
    "alpha_polarity = load_word_polarity(\"./\")\n",
    "test_word = \"happy\"\n",
    "print(\"Polarity of word '%s' is %s\" %(test_word,str(compute_phrase_score(test_word, alpha_polarity))))"
   ]
  },
  {
   "cell_type": "markdown",
   "metadata": {},
   "source": [
    "test_word = \"idle\"\n",
    "print(\"Polarity of word '%s' is %s\" %(test_word,str(compute_phrase_score(test_word, alpha_polarity))))"
   ]
  },
  {
   "cell_type": "code",
   "execution_count": 11,
   "metadata": {},
   "outputs": [
    {
     "name": "stdout",
     "output_type": "stream",
     "text": [
      "Polarity of word 'hero' is 19.25\n"
     ]
    }
   ],
   "source": [
    "test_word = \"hero\"\n",
    "print(\"Polarity of word '%s' is %s\" %(test_word,str(compute_phrase_score(test_word, alpha_polarity))))"
   ]
  },
  {
   "cell_type": "code",
   "execution_count": 13,
   "metadata": {},
   "outputs": [
    {
     "name": "stdout",
     "output_type": "stream",
     "text": [
      "Polarity of word 'die' is -8.67\n"
     ]
    }
   ],
   "source": [
    "test_word = \"die\"\n",
    "print(\"Polarity of word '%s' is %s\" %(test_word,str(compute_phrase_score(test_word, alpha_polarity))))"
   ]
  },
  {
   "cell_type": "code",
   "execution_count": 24,
   "metadata": {},
   "outputs": [
    {
     "name": "stdout",
     "output_type": "stream",
     "text": [
      "Polarity of word 'idle' is -1.25\n"
     ]
    }
   ],
   "source": [
    "test_word = \"idle\"\n",
    "print(\"Polarity of word '%s' is %s\" %(test_word,str(compute_phrase_score(test_word, alpha_polarity))))"
   ]
  },
  {
   "cell_type": "code",
   "execution_count": 19,
   "metadata": {},
   "outputs": [
    {
     "name": "stdout",
     "output_type": "stream",
     "text": [
      "Polarity of word 'love' is 11.5\n"
     ]
    }
   ],
   "source": [
    "test_word = \"love\"\n",
    "print(\"Polarity of word '%s' is %s\" %(test_word,str(compute_phrase_score(test_word, alpha_polarity))))"
   ]
  },
  {
   "cell_type": "markdown",
   "metadata": {},
   "source": [
    "## What are the most positive and negative English alphabets?!!"
   ]
  },
  {
   "cell_type": "code",
   "execution_count": 20,
   "metadata": {},
   "outputs": [
    {
     "name": "stdout",
     "output_type": "stream",
     "text": [
      "Most positive alphabets are:  [('m', 71), ('s', 99), ('p', 116)]\n",
      "Most negative alphabets are:  [('i', -25), ('d', -14), ('k', -3)]\n"
     ]
    }
   ],
   "source": [
    "import operator\n",
    "sorted_dict = sorted(alpha_polarity.items(), key=operator.itemgetter(1))\n",
    "print(\"Most positive alphabets are: \", sorted_dict[-3:])\n",
    "print(\"Most negative alphabets are: \", sorted_dict[:3])"
   ]
  },
  {
   "cell_type": "code",
   "execution_count": null,
   "metadata": {},
   "outputs": [],
   "source": []
  }
 ],
 "metadata": {
  "kernelspec": {
   "display_name": "Python 3",
   "language": "python",
   "name": "python3"
  },
  "language_info": {
   "codemirror_mode": {
    "name": "ipython",
    "version": 3
   },
   "file_extension": ".py",
   "mimetype": "text/x-python",
   "name": "python",
   "nbconvert_exporter": "python",
   "pygments_lexer": "ipython3",
   "version": "3.6.5"
  }
 },
 "nbformat": 4,
 "nbformat_minor": 2
}
